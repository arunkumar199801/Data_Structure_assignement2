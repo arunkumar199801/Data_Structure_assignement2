{
 "cells": [
  {
   "cell_type": "markdown",
   "id": "ff5bc1ce-1432-4af2-af67-d0efaedc0d0a",
   "metadata": {},
   "source": [
    "Question 3: Describe how to access, modify and delete elements in a list with examples ?"
   ]
  },
  {
   "cell_type": "raw",
   "id": "63f99f8e-437c-4020-a5ae-504855aef703",
   "metadata": {},
   "source": [
    "Answer\n",
    "You can access elements in a list using indexing. Python uses zero-based indexing, which means the first element has an index of 0.\n",
    "1.\tAccessing by Index:\n",
    "2.\tAccessing by Negative Index:\n",
    "3.\tSlicing\n",
    "4.\tModifying by Index:\n",
    "5.\tModifying a Range (Slicing):\n",
    "6.\tUsing del Statement:\n",
    "7.\tUsing remove() Method: removes the first occurrence of a specified value.\n",
    "8.\tUsing pop() Method: pop() removes and returns the element at the specified index. If no index is specified, it removes and returns the last element.\n"
   ]
  },
  {
   "cell_type": "code",
   "execution_count": 1,
   "id": "f3b598dc-bdaa-485a-b688-5cf013d914a1",
   "metadata": {},
   "outputs": [
    {
     "name": "stdout",
     "output_type": "stream",
     "text": [
      "Accessing by Index:\n",
      "Arun\n"
     ]
    },
    {
     "data": {
      "text/plain": [
       "[10, 10.2, 'Arun']"
      ]
     },
     "execution_count": 1,
     "metadata": {},
     "output_type": "execute_result"
    }
   ],
   "source": [
    "print(\"Accessing by Index:\")\n",
    "my_list = [10,10.20,'Arun']\n",
    "print(my_list[2])\n",
    "my_list[0:3]"
   ]
  },
  {
   "cell_type": "code",
   "execution_count": 2,
   "id": "efd71a37-e1f0-403a-a0be-89c838a028b7",
   "metadata": {},
   "outputs": [
    {
     "name": "stdout",
     "output_type": "stream",
     "text": [
      "Accessing by Negative Index:\n",
      "['Arun', 10.2, 10]\n"
     ]
    }
   ],
   "source": [
    "print(\"Accessing by Negative Index:\")\n",
    "my_list = [10,10.20,'Arun']\n",
    "print(my_list[::-1])"
   ]
  },
  {
   "cell_type": "raw",
   "id": "d4d50cc5-1b92-457c-a60a-874fbb965cf1",
   "metadata": {},
   "source": [
    "Modifying Elements in a List"
   ]
  },
  {
   "cell_type": "code",
   "execution_count": 3,
   "id": "2df562c4-a185-4c8c-b510-4651b3d5a2d2",
   "metadata": {},
   "outputs": [
    {
     "name": "stdout",
     "output_type": "stream",
     "text": [
      "Modifying by Index:\n",
      "[10, 20, 30, 40, 50]\n",
      "modified by index ['Arun', 20, 30, 40, 50]\n"
     ]
    }
   ],
   "source": [
    "print(\"Modifying by Index:\")\n",
    "my_list = [10, 20, 30, 40, 50]\n",
    "print(my_list)\n",
    "my_list[0] = \"Arun\"\n",
    "print(\"modified by index\",my_list)"
   ]
  },
  {
   "cell_type": "code",
   "execution_count": 4,
   "id": "bfd9380a-5dbd-4474-ba71-921ecd8ddea3",
   "metadata": {},
   "outputs": [
    {
     "name": "stdout",
     "output_type": "stream",
     "text": [
      "Modifying a Range (Slicing):\n",
      "[10, 20, 30, 40, 50]\n",
      "Modifying a Range (Slicing): [10, 100, 'Arun', 40, 50]\n"
     ]
    }
   ],
   "source": [
    "print(\"Modifying a Range (Slicing):\")\n",
    "my_list = [10, 20, 30, 40, 50]\n",
    "print(my_list)\n",
    "my_list[1:3]= [100,'Arun']\n",
    "print(\"Modifying a Range (Slicing):\", my_list)"
   ]
  },
  {
   "cell_type": "raw",
   "id": "f312462b-3c66-46bc-b0fa-c43e7f14ef2d",
   "metadata": {},
   "source": [
    "Deleting Elements from a List\n",
    "\n",
    "You can delete elements from a list using several methods, such as del statement, remove() method, and pop() method."
   ]
  },
  {
   "cell_type": "code",
   "execution_count": 5,
   "id": "e3b1927e-1166-4622-9829-e51ed45bbbec",
   "metadata": {},
   "outputs": [
    {
     "name": "stdout",
     "output_type": "stream",
     "text": [
      "[10, 20, 40, 50]\n",
      "[10, 50]\n"
     ]
    }
   ],
   "source": [
    "my_list = [10, 20, 30, 40, 50]\n",
    "del my_list[2]\n",
    "print(my_list)  # Output: [10, 20, 40, 50]\n",
    "\n",
    "# Deleting a range of elements\n",
    "del my_list[1:3]\n",
    "print(my_list)  # Output: [10, 50]"
   ]
  },
  {
   "cell_type": "code",
   "execution_count": 6,
   "id": "8ed29252-30ec-444f-b69d-a9385d0a35ec",
   "metadata": {},
   "outputs": [
    {
     "name": "stdout",
     "output_type": "stream",
     "text": [
      "[10, 20, 40, 50]\n"
     ]
    }
   ],
   "source": [
    "my_list = [10, 20, 30, 40, 50]\n",
    "my_list.remove(30)\n",
    "print(my_list)  # Output: [10, 20, 40, 50]"
   ]
  },
  {
   "cell_type": "code",
   "execution_count": 7,
   "id": "3d268b1f-4692-4563-ba86-fe8d2b062e44",
   "metadata": {},
   "outputs": [
    {
     "name": "stdout",
     "output_type": "stream",
     "text": [
      "30\n",
      "[10, 20, 40, 50]\n",
      "50\n",
      "[10, 20, 40]\n"
     ]
    }
   ],
   "source": [
    "my_list = [10, 20, 30, 40, 50]\n",
    "popped_element = my_list.pop(2)\n",
    "print(popped_element)  # Output: 30\n",
    "print(my_list)         # Output: [10, 20, 40, 50]\n",
    "\n",
    "last_element = my_list.pop()\n",
    "print(last_element)    # Output: 50\n",
    "print(my_list)         # Output: [10, 20, 40]"
   ]
  },
  {
   "cell_type": "code",
   "execution_count": null,
   "id": "12705d3f-8146-4b86-878e-397ef7a8b436",
   "metadata": {},
   "outputs": [],
   "source": []
  }
 ],
 "metadata": {
  "kernelspec": {
   "display_name": "Python 3 (ipykernel)",
   "language": "python",
   "name": "python3"
  },
  "language_info": {
   "codemirror_mode": {
    "name": "ipython",
    "version": 3
   },
   "file_extension": ".py",
   "mimetype": "text/x-python",
   "name": "python",
   "nbconvert_exporter": "python",
   "pygments_lexer": "ipython3",
   "version": "3.10.8"
  }
 },
 "nbformat": 4,
 "nbformat_minor": 5
}
