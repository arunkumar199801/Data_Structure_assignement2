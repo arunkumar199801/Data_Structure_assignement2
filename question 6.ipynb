{
 "cells": [
  {
   "cell_type": "markdown",
   "id": "54f1d644-f9e4-419c-a51b-ccd48e2d60f3",
   "metadata": {},
   "source": [
    "Question 6: Discuss the use cases of tuples and sets in Python programming ?"
   ]
  },
  {
   "cell_type": "raw",
   "id": "e0163e35-66de-47b6-b16c-c3f059cc176f",
   "metadata": {},
   "source": [
    "Ans:-\n",
    "Use Cases of Tuples in Python:-\n",
    "\n",
    "1.\tFixed Collections of Items: Tuples are ideal for grouping related data that should not change throughout the program.\n",
    "2.\tReturning Multiple Values from a Function:  Functions can return multiple values as a tuple.\n",
    "3.\tData Integrity:\n",
    "o\tEnsures that the collection of items remains unchanged, which can be useful in applications where data integrity is critical.\n",
    "o\tExample: Database records that should not be modified.\n",
    "4.\tUsing as Dictionary Keys:Since tuples are immutable, they can be used as keys in dictionaries, unlike lists.\n",
    "5.\tStoring Heterogeneous Data:Tuples can store a collection of items of different types.\n",
    "6.\tEfficient Iteration: Iterating through tuples is generally faster than through lists due to their immutability.\n",
    "\n",
    "Use Cases of Sets in Python\n",
    "\n",
    "1.\tEliminating Duplicates:Sets automatically remove duplicates from a collection of items.\n",
    "2.\tMembership Testing:Sets provide efficient membership testing, checking whether an item is in the set.\n",
    "3.\tSet Operations:Sets support mathematical operations like union, intersection, difference, and symmetric difference.\n",
    "4.\tRemoving Duplicates from a List: Quickly removing duplicates from a list by converting it to a set and back to a list.\n",
    "5.\tStoring Unordered Collections:Useful when the order of items is not important.\n"
   ]
  },
  {
   "cell_type": "code",
   "execution_count": null,
   "id": "12362c06-907e-4080-9934-13c05e74f797",
   "metadata": {},
   "outputs": [],
   "source": []
  }
 ],
 "metadata": {
  "kernelspec": {
   "display_name": "Python 3 (ipykernel)",
   "language": "python",
   "name": "python3"
  },
  "language_info": {
   "codemirror_mode": {
    "name": "ipython",
    "version": 3
   },
   "file_extension": ".py",
   "mimetype": "text/x-python",
   "name": "python",
   "nbconvert_exporter": "python",
   "pygments_lexer": "ipython3",
   "version": "3.10.8"
  }
 },
 "nbformat": 4,
 "nbformat_minor": 5
}
