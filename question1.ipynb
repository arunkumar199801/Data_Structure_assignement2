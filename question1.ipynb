{
 "cells": [
  {
   "cell_type": "raw",
   "id": "ba6fe0bb-b1ee-435b-b775-f3ebcb21602e",
   "metadata": {},
   "source": [
    "Question 1: Discuss string slicing and provide examples ?\n",
    "Answer:\n",
    "1.\tString slicing is a technique used in programming languages like Python to extract a substring (a portion of a string) by specifying a range of indices. \n",
    "2.\tIn Python, string slicing is done using square brackets [] with the syntax string [start:end:step], where:\n",
    "\n",
    "•\tStart: Optional parameter indicating the starting index of the substring (inclusive). If not specified, slicing starts from the beginning of the string (index 0).\n",
    "\n",
    "•\tEnd: Optional parameter indicating the ending index of the substring (exclusive). If not specified, slicing goes to the end of the string.\n",
    "\n",
    "•\tStep: Optional parameter indicating the step or increment for slicing. It specifies how many characters to skip. Default is 1.\n"
   ]
  },
  {
   "cell_type": "code",
   "execution_count": null,
   "id": "06d291fe-6b66-4ae9-a5e1-dd7181a4217c",
   "metadata": {},
   "outputs": [],
   "source": []
  },
  {
   "cell_type": "code",
   "execution_count": 5,
   "id": "6e7a9a61-f036-42f7-8b36-d30088b1deb1",
   "metadata": {},
   "outputs": [
    {
     "name": "stdout",
     "output_type": "stream",
     "text": [
      "H\n",
      "e\n",
      "l\n",
      "l\n",
      "o\n",
      ",\n",
      "Hello\n",
      "World\n"
     ]
    }
   ],
   "source": [
    "s = \"Hello, World!\"\n",
    "print(s[0])\n",
    "print(s[1])\n",
    "print(s[2])\n",
    "print(s[3])\n",
    "print(s[4])\n",
    "print(s[5])\n",
    "print(s[0:5])\n",
    "print(s[7:12])\n"
   ]
  },
  {
   "cell_type": "raw",
   "id": "b09fa478-87e3-44fd-83a9-81bf8c160238",
   "metadata": {},
   "source": []
  },
  {
   "cell_type": "markdown",
   "id": "344ea986-2862-4260-a456-3ea9fed24ea8",
   "metadata": {},
   "source": [
    "Question 3: Describe how to access, modify and delete elements in a list with examples ?"
   ]
  },
  {
   "cell_type": "code",
   "execution_count": 26,
   "id": "767fc518-bb1d-4e27-9d3e-dd9eb11c46f1",
   "metadata": {},
   "outputs": [
    {
     "name": "stdout",
     "output_type": "stream",
     "text": [
      "Accessing by Index:\n",
      "Arun\n"
     ]
    },
    {
     "data": {
      "text/plain": [
       "[10, 10.2, 'Arun']"
      ]
     },
     "execution_count": 26,
     "metadata": {},
     "output_type": "execute_result"
    }
   ],
   "source": [
    "print(\"Accessing by Index:\")\n",
    "my_list = [10,10.20,'Arun']\n",
    "print(my_list[2])\n",
    "my_list[0:3]"
   ]
  },
  {
   "cell_type": "code",
   "execution_count": 33,
   "id": "5baf74cf-e742-4e06-b168-ad49e3e3d9d2",
   "metadata": {},
   "outputs": [
    {
     "name": "stdout",
     "output_type": "stream",
     "text": [
      "Accessing by Negative Index:\n",
      "['Arun', 10.2, 10]\n"
     ]
    }
   ],
   "source": [
    "print(\"Accessing by Negative Index:\")\n",
    "my_list = [10,10.20,'Arun']\n",
    "print(my_list[::-1])"
   ]
  },
  {
   "cell_type": "raw",
   "id": "d3d88ead-0bd0-4e88-ba7f-281a98cfd25f",
   "metadata": {},
   "source": [
    "Modifying Elements in a List"
   ]
  },
  {
   "cell_type": "code",
   "execution_count": 40,
   "id": "01d02e32-0b42-43bc-b861-d5f98190b7fe",
   "metadata": {},
   "outputs": [
    {
     "name": "stdout",
     "output_type": "stream",
     "text": [
      "Modifying by Index:\n",
      "[10, 20, 30, 40, 50]\n",
      "modified by index ['Arun', 20, 30, 40, 50]\n"
     ]
    }
   ],
   "source": [
    "print(\"Modifying by Index:\")\n",
    "my_list = [10, 20, 30, 40, 50]\n",
    "print(my_list)\n",
    "my_list[0] = \"Arun\"\n",
    "print(\"modified by index\",my_list)"
   ]
  },
  {
   "cell_type": "code",
   "execution_count": 41,
   "id": "0683f8a1-18ff-4073-99fe-2240ae3ebca8",
   "metadata": {},
   "outputs": [
    {
     "name": "stdout",
     "output_type": "stream",
     "text": [
      "Modifying a Range (Slicing):\n",
      "[10, 20, 30, 40, 50]\n",
      "Modifying a Range (Slicing): [10, 100, 'Arun', 40, 50]\n"
     ]
    }
   ],
   "source": [
    "print(\"Modifying a Range (Slicing):\")\n",
    "my_list = [10, 20, 30, 40, 50]\n",
    "print(my_list)\n",
    "my_list[1:3]= [100,'Arun']\n",
    "print(\"Modifying a Range (Slicing):\", my_list)"
   ]
  },
  {
   "cell_type": "code",
   "execution_count": null,
   "id": "0ec674b5-e723-4fe5-a4d0-09538a0350e4",
   "metadata": {},
   "outputs": [],
   "source": []
  }
 ],
 "metadata": {
  "kernelspec": {
   "display_name": "Python 3 (ipykernel)",
   "language": "python",
   "name": "python3"
  },
  "language_info": {
   "codemirror_mode": {
    "name": "ipython",
    "version": 3
   },
   "file_extension": ".py",
   "mimetype": "text/x-python",
   "name": "python",
   "nbconvert_exporter": "python",
   "pygments_lexer": "ipython3",
   "version": "3.10.8"
  }
 },
 "nbformat": 4,
 "nbformat_minor": 5
}
