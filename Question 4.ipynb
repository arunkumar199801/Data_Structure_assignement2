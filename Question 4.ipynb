{
 "cells": [
  {
   "cell_type": "markdown",
   "id": "d8baec4b-1881-41c1-bf9f-516cd03f7388",
   "metadata": {},
   "source": [
    "Question 4: Compare and contrast tuples and lists with examples?"
   ]
  },
  {
   "cell_type": "raw",
   "id": "67cbed70-5d20-4bb4-9927-cdf9874584d1",
   "metadata": {},
   "source": [
    "Ans: Tuples and lists are both used to store collections of items, but they have some key differences. Here is a comparison and contrast of tuples and lists along with examples.\n",
    "1. Mutability\n",
    "\n",
    "•\tLists: Mutable, meaning you can change, add, or remove elements after the list is created.\n",
    "•\tTuples: Immutable, meaning once a tuple is created, it cannot be modified\n",
    "\n",
    "2. Syntax\n",
    "•\tLists: Created using square brackets [].\n",
    "•\tTuples: Created using parentheses ().\n",
    "\n",
    "3. Use Cases\n",
    "•\tLists: Preferred when you need a collection of items that can change during the program execution.\n",
    "•\tTuples: Preferred when you need a collection of items that should not change. Tuples can be used as keys in dictionaries, while lists cannot.\n",
    "\n",
    "4. Performance\n",
    "•\tLists: Slightly slower than tuples due to the overhead of mutability.\n",
    "•\tTuples: Slightly faster than lists because of their immutability.\n",
    "\n",
    "5. Functions and Methods\n",
    "•\tLists: Have more built-in methods such as append(), remove(), pop(), sort(), etc.\n",
    "•\tTuples: Have fewer built-in methods, mainly count() and index().\n",
    "\n",
    "6. Packing and Unpacking\n",
    "•\tBoth: Support packing and unpacking.\n",
    "\n",
    "Summary\n",
    "•\tLists: Mutable, more versatile with more built-in methods, slightly slower, best for collections of items that may change.\n",
    "•\tTuples: Immutable, fewer methods, slightly faster, can be used as dictionary keys, best for collections of items that should not change.\n"
   ]
  },
  {
   "cell_type": "code",
   "execution_count": 2,
   "id": "1d3f38d3-4145-4974-8811-cc1fe6fb4ccc",
   "metadata": {},
   "outputs": [
    {
     "name": "stdout",
     "output_type": "stream",
     "text": [
      "[10, 2, 3]\n"
     ]
    }
   ],
   "source": [
    "# List (mutable)\n",
    "my_list = [1, 2, 3]\n",
    "my_list[0] = 10\n",
    "print(my_list)  # Output: [10, 2, 3]\n",
    "\n"
   ]
  },
  {
   "cell_type": "code",
   "execution_count": 3,
   "id": "4c87d313-0587-4021-b1b3-13df997fe8cb",
   "metadata": {},
   "outputs": [
    {
     "ename": "TypeError",
     "evalue": "'tuple' object does not support item assignment",
     "output_type": "error",
     "traceback": [
      "\u001b[0;31m---------------------------------------------------------------------------\u001b[0m",
      "\u001b[0;31mTypeError\u001b[0m                                 Traceback (most recent call last)",
      "Cell \u001b[0;32mIn[3], line 3\u001b[0m\n\u001b[1;32m      1\u001b[0m \u001b[38;5;66;03m# Tuple (immutable)\u001b[39;00m\n\u001b[1;32m      2\u001b[0m my_tuple \u001b[38;5;241m=\u001b[39m (\u001b[38;5;241m1\u001b[39m, \u001b[38;5;241m2\u001b[39m, \u001b[38;5;241m3\u001b[39m)\n\u001b[0;32m----> 3\u001b[0m \u001b[43mmy_tuple\u001b[49m\u001b[43m[\u001b[49m\u001b[38;5;241;43m0\u001b[39;49m\u001b[43m]\u001b[49m \u001b[38;5;241m=\u001b[39m \u001b[38;5;241m10\u001b[39m  \u001b[38;5;66;03m# This will raise a TypeError\u001b[39;00m\n",
      "\u001b[0;31mTypeError\u001b[0m: 'tuple' object does not support item assignment"
     ]
    }
   ],
   "source": [
    "# Tuple (immutable)\n",
    "my_tuple = (1, 2, 3)\n",
    "my_tuple[0] = 10  # This will raise a TypeError"
   ]
  },
  {
   "cell_type": "code",
   "execution_count": 5,
   "id": "eb842182-189d-40e1-b423-7c03cc0f9384",
   "metadata": {},
   "outputs": [
    {
     "name": "stdout",
     "output_type": "stream",
     "text": [
      "[1, 2, 3]\n",
      "(1, 2, 3)\n"
     ]
    }
   ],
   "source": [
    "# List\n",
    "my_list = [1, 2, 3]\n",
    "print(my_list)\n",
    "# Tuple\n",
    "my_tuple = (1, 2, 3)\n",
    "print(my_tuple)"
   ]
  },
  {
   "cell_type": "code",
   "execution_count": 8,
   "id": "ec2c5cd0-84a2-4ab3-b150-5b7e8b820f38",
   "metadata": {},
   "outputs": [
    {
     "name": "stdout",
     "output_type": "stream",
     "text": [
      "[1, 2, 3, 4]\n",
      "2\n",
      "2\n"
     ]
    }
   ],
   "source": [
    "# List methods\n",
    "my_list = [1, 2, 3]\n",
    "my_list.append(4)\n",
    "print(my_list)  # Output: [1, 2, 3, 4]\n",
    "\n",
    "# Tuple methods\n",
    "my_tuple = (1, 2, 3, 2)\n",
    "print(my_tuple.count(2))  # Output: 2\n",
    "print(my_tuple.index(3))  # Output: 2"
   ]
  },
  {
   "cell_type": "code",
   "execution_count": 9,
   "id": "7265d7f4-cdf4-4bc7-8ee1-01d687e88685",
   "metadata": {},
   "outputs": [
    {
     "name": "stdout",
     "output_type": "stream",
     "text": [
      "1 2 3\n",
      "1 2 3\n"
     ]
    }
   ],
   "source": [
    "# Packing\n",
    "my_list = [1, 2, 3]\n",
    "my_tuple = (1, 2, 3)\n",
    "\n",
    "# Unpacking\n",
    "a, b, c = my_list\n",
    "print(a, b, c)  # Output: 1 2 3\n",
    "\n",
    "x, y, z = my_tuple\n",
    "print(x, y, z)  # Output: 1 2 3"
   ]
  },
  {
   "cell_type": "code",
   "execution_count": null,
   "id": "1d0ce88f-750b-4462-8b06-b67a098c8652",
   "metadata": {},
   "outputs": [],
   "source": []
  }
 ],
 "metadata": {
  "kernelspec": {
   "display_name": "Python 3 (ipykernel)",
   "language": "python",
   "name": "python3"
  },
  "language_info": {
   "codemirror_mode": {
    "name": "ipython",
    "version": 3
   },
   "file_extension": ".py",
   "mimetype": "text/x-python",
   "name": "python",
   "nbconvert_exporter": "python",
   "pygments_lexer": "ipython3",
   "version": "3.10.8"
  }
 },
 "nbformat": 4,
 "nbformat_minor": 5
}
