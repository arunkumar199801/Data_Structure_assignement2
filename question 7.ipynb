{
 "cells": [
  {
   "cell_type": "markdown",
   "id": "e866dd40-28ee-4cc0-9b92-4bdd22111ee2",
   "metadata": {},
   "source": [
    "Question 7: Describe how to add, modify, and delete items in a dictionary with examples?"
   ]
  },
  {
   "cell_type": "raw",
   "id": "5ab5c255-9acd-4bc1-8967-1514d1a62012",
   "metadata": {},
   "source": [
    "Ans: In Python, dictionaries are mutable data structures that store key-value pairs. Here's how you can add, modify, and delete items in a dictionary:\n",
    "\n",
    "1.\tAdding Items: To add an item to a dictionary, you simply assign a value to a new key or an existing key if you're modifying.\n",
    "\n",
    "2.\tModifying Items: To modify an existing item in a dictionary, you reassign the value of the key.\n",
    "\n",
    "3.\tDeleting Items:  To delete an item from a dictionary, you can use the del keyword followed by the key of the item you want to remove.\n"
   ]
  },
  {
   "cell_type": "code",
   "execution_count": 9,
   "id": "16ab87c3-a9db-4c7e-8d15-962cbbca7ecd",
   "metadata": {},
   "outputs": [
    {
     "name": "stdout",
     "output_type": "stream",
     "text": [
      "Initializing the empty dictionary\n",
      "Adding item in dictionary\n"
     ]
    },
    {
     "name": "stdin",
     "output_type": "stream",
     "text": [
      " Arun\n",
      " kumar\n",
      " 9315847218\n",
      " parvatiya colony\n"
     ]
    },
    {
     "name": "stdout",
     "output_type": "stream",
     "text": [
      "{'First Name': 'Arun', 'last Name': 'kumar', 'Mobile number': 9315847218, 'address': 'parvatiya colony'}\n"
     ]
    }
   ],
   "source": [
    "print(\"Initializing the empty dictionary\")\n",
    "my_dict = {}\n",
    "print(\"Adding item in dictionary\")\n",
    "my_dict[\"First Name\"] = str(input(\"\"))\n",
    "my_dict[\"last Name\"] = str(input(\"\"))\n",
    "my_dict[\"Mobile number\"] = int(input(\"\"))\n",
    "my_dict[\"address\"] = str(input(\"\"))\n",
    "print(my_dict)"
   ]
  },
  {
   "cell_type": "code",
   "execution_count": 19,
   "id": "c8438f66-6b52-4cfa-9032-4b45a37f7e2d",
   "metadata": {},
   "outputs": [
    {
     "name": "stdout",
     "output_type": "stream",
     "text": [
      "After modifying 'mobile number': {'First Name': 'Arun', 'last Name': 'kumar', 'Mobile number': 9468179080}\n"
     ]
    }
   ],
   "source": [
    "#modifying the new dictionary\n",
    "my_dict[\"Mobile number\"] = 9468179080\n",
    "print(\"After modifying 'mobile number':\", my_dict)"
   ]
  },
  {
   "cell_type": "code",
   "execution_count": 21,
   "id": "3f28a6e7-35ae-4891-9a78-e61899a9a253",
   "metadata": {},
   "outputs": [
    {
     "data": {
      "text/plain": [
       "{'First Name': 'Arun', 'Mobile number': 9468179080}"
      ]
     },
     "execution_count": 21,
     "metadata": {},
     "output_type": "execute_result"
    }
   ],
   "source": [
    "del my_dict[\"last Name\"]\n",
    "my_dict"
   ]
  },
  {
   "cell_type": "code",
   "execution_count": null,
   "id": "f9e4df2c-9982-447e-b6bd-4207a34e8775",
   "metadata": {},
   "outputs": [],
   "source": []
  }
 ],
 "metadata": {
  "kernelspec": {
   "display_name": "Python 3 (ipykernel)",
   "language": "python",
   "name": "python3"
  },
  "language_info": {
   "codemirror_mode": {
    "name": "ipython",
    "version": 3
   },
   "file_extension": ".py",
   "mimetype": "text/x-python",
   "name": "python",
   "nbconvert_exporter": "python",
   "pygments_lexer": "ipython3",
   "version": "3.10.8"
  }
 },
 "nbformat": 4,
 "nbformat_minor": 5
}
