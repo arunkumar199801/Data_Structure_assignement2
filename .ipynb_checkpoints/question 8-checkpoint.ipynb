{
 "cells": [
  {
   "cell_type": "markdown",
   "id": "1de9ce5c-c1c8-4717-b6eb-d1d84326f4a8",
   "metadata": {},
   "source": [
    "Question 8: Discuss the importance of dictionary keys being immutable and provide examples?"
   ]
  },
  {
   "cell_type": "raw",
   "id": "a48c1469-277d-49f0-b4ec-ce6619996783",
   "metadata": {},
   "source": [
    "In Python, dictionary keys must be immutable. This requirement ensures that the keys remain hashable, meaning they have a fixed hash value during their lifetime, allowing efficient retrieval, insertion, and deletion of items.\n",
    "Importance of Dictionary Keys Being Immutable:\n",
    "1.\tHashing Consistency:\n",
    "    \n",
    "o\tDictionaries in Python are implemented using hash tables. Immutable keys ensure that the hash value, which determines where the item is stored, remains constant. If keys were mutable, their hash values could change, making it impossible to locate the value associated with that key.\n",
    "\n",
    "2.\tKey Integrity:\n",
    "o\tEnsuring keys are immutable preserves the integrity of the dictionary structure. If keys could change, it would lead to inconsistencies and unpredictable behavior in dictionary operations.\n",
    "\n",
    "3.\tPerformance:\n",
    "o\tUsing immutable keys allows for efficient lookup operations. The hash table can quickly compute the index for the key using its hash value, providing average-case constant-time complexity for lookups, insertions, and deletions.\n",
    "\n"
   ]
  },
  {
   "cell_type": "raw",
   "id": "54ea9705-a954-4dfd-a9d0-b381932e6701",
   "metadata": {},
   "source": [
    "Examples of Immutable vs. Mutable Keys:"
   ]
  },
  {
   "cell_type": "raw",
   "id": "54dfbc36-1253-4cea-a20e-88f61d915879",
   "metadata": {},
   "source": [
    "Immutable Keys:\n",
    "1:- Strings\n",
    "2: numbers\n",
    "3:- Tuple\n"
   ]
  },
  {
   "cell_type": "code",
   "execution_count": 1,
   "id": "a4d43c3f-7830-4be6-b71c-89a83feb8350",
   "metadata": {},
   "outputs": [
    {
     "name": "stdout",
     "output_type": "stream",
     "text": [
      "Alice\n"
     ]
    }
   ],
   "source": [
    "#string\n",
    "my_dict = {'name': 'Alice', 'age': 30}\n",
    "print(my_dict['name'])  # Output: Alice"
   ]
  },
  {
   "cell_type": "code",
   "execution_count": 2,
   "id": "224eddf8-81fa-4a7c-a7d9-86a51f15b737",
   "metadata": {},
   "outputs": [
    {
     "name": "stdout",
     "output_type": "stream",
     "text": [
      "one\n"
     ]
    }
   ],
   "source": [
    "#numbers\n",
    "my_dict = {1: 'one', 2: 'two'}\n",
    "print(my_dict[1])  # Output: one"
   ]
  },
  {
   "cell_type": "code",
   "execution_count": 3,
   "id": "1939dcd6-6df8-4946-938b-276fc463692c",
   "metadata": {},
   "outputs": [
    {
     "name": "stdout",
     "output_type": "stream",
     "text": [
      "point A\n"
     ]
    }
   ],
   "source": [
    "#Tuple\n",
    "my_dict = {(1, 2): 'point A', (3, 4): 'point B'}\n",
    "print(my_dict[(1, 2)])  # Output: point A"
   ]
  },
  {
   "cell_type": "raw",
   "id": "50e56028-88ae-48b0-8a07-e23a5f9038c1",
   "metadata": {},
   "source": [
    "Mutable Keys (Not Allowed):\n",
    "    Lists\n",
    "    Dictionaries"
   ]
  },
  {
   "cell_type": "code",
   "execution_count": 4,
   "id": "23b484b1-c511-4843-86c8-243ba152e2ec",
   "metadata": {},
   "outputs": [
    {
     "ename": "TypeError",
     "evalue": "unhashable type: 'list'",
     "output_type": "error",
     "traceback": [
      "\u001b[0;31m---------------------------------------------------------------------------\u001b[0m",
      "\u001b[0;31mTypeError\u001b[0m                                 Traceback (most recent call last)",
      "Cell \u001b[0;32mIn[4], line 1\u001b[0m\n\u001b[0;32m----> 1\u001b[0m my_dict \u001b[38;5;241m=\u001b[39m {[\u001b[38;5;241m1\u001b[39m, \u001b[38;5;241m2\u001b[39m]: \u001b[38;5;124m'\u001b[39m\u001b[38;5;124mlist key\u001b[39m\u001b[38;5;124m'\u001b[39m}  \u001b[38;5;66;03m# Raises a TypeError\u001b[39;00m\n",
      "\u001b[0;31mTypeError\u001b[0m: unhashable type: 'list'"
     ]
    }
   ],
   "source": [
    "my_dict = {[1, 2]: 'list key'}  # Raises a TypeError"
   ]
  },
  {
   "cell_type": "code",
   "execution_count": 5,
   "id": "4590a0bb-f894-462e-95d7-0267cbbeb591",
   "metadata": {},
   "outputs": [
    {
     "ename": "TypeError",
     "evalue": "unhashable type: 'dict'",
     "output_type": "error",
     "traceback": [
      "\u001b[0;31m---------------------------------------------------------------------------\u001b[0m",
      "\u001b[0;31mTypeError\u001b[0m                                 Traceback (most recent call last)",
      "Cell \u001b[0;32mIn[5], line 1\u001b[0m\n\u001b[0;32m----> 1\u001b[0m my_dict \u001b[38;5;241m=\u001b[39m {{\u001b[38;5;124m'\u001b[39m\u001b[38;5;124mkey\u001b[39m\u001b[38;5;124m'\u001b[39m: \u001b[38;5;124m'\u001b[39m\u001b[38;5;124mvalue\u001b[39m\u001b[38;5;124m'\u001b[39m}: \u001b[38;5;124m'\u001b[39m\u001b[38;5;124mdict key\u001b[39m\u001b[38;5;124m'\u001b[39m}  \u001b[38;5;66;03m# Raises a TypeError\u001b[39;00m\n",
      "\u001b[0;31mTypeError\u001b[0m: unhashable type: 'dict'"
     ]
    }
   ],
   "source": [
    "my_dict = {{'key': 'value'}: 'dict key'}  # Raises a TypeError"
   ]
  },
  {
   "cell_type": "code",
   "execution_count": null,
   "id": "55e9d1f8-1a7d-4c89-9a81-67dfcbaa72eb",
   "metadata": {},
   "outputs": [],
   "source": []
  }
 ],
 "metadata": {
  "kernelspec": {
   "display_name": "Python 3 (ipykernel)",
   "language": "python",
   "name": "python3"
  },
  "language_info": {
   "codemirror_mode": {
    "name": "ipython",
    "version": 3
   },
   "file_extension": ".py",
   "mimetype": "text/x-python",
   "name": "python",
   "nbconvert_exporter": "python",
   "pygments_lexer": "ipython3",
   "version": "3.10.8"
  }
 },
 "nbformat": 4,
 "nbformat_minor": 5
}
