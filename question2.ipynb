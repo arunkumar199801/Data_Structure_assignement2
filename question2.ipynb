{
 "cells": [
  {
   "cell_type": "markdown",
   "id": "f2d184dc-94a2-4b81-b66e-ebfdf4b955b5",
   "metadata": {},
   "source": [
    "Question 2: Explain the key features of lists in Python?"
   ]
  },
  {
   "cell_type": "raw",
   "id": "2486dc6c-ae01-406a-a8f2-fad4aa483444",
   "metadata": {},
   "source": [
    "Lists in Python are one of the most versatile and commonly used data structures. Here are the key features of lists:\n",
    "1.\tOrdered: Lists maintain the order of elements. The position of each element is fixed, and you can access elements by their index\n",
    "\n",
    "2.\tMutable:Lists can be modified after their creation. You can add, remove, or change elements.\n",
    "\n",
    "3.\tDynamic: Lists can grow and shrink in size as needed. You can append elements to a list or remove elements.\n",
    "\n",
    "4.\tHeterogeneous:-    . Lists can contain elements of different data types\n",
    "\n",
    "5.\tIndexed: Elements in a list can be accessed using indices, which start at 0. Negative indexing allows access from the end.\n",
    "\n",
    "6.\tSlicing: Lists support slicing to access a subset of elements.\n",
    "\n",
    "7.\tMethods: Lists have a rich set of built-in methods for various operations like adding, removing, sorting, and reversing elements.\n",
    "\n",
    "8.\tIteration: You can iterate over the elements of a list using loops.\n",
    "\n",
    "9.\tComprehensions: List comprehensions provide a concise way to create lists.\n"
   ]
  },
  {
   "cell_type": "code",
   "execution_count": 1,
   "id": "647b0c56-d43f-45b1-865d-2f3b8d11a2b1",
   "metadata": {},
   "outputs": [
    {
     "name": "stdout",
     "output_type": "stream",
     "text": [
      "[10, 10, 30, 40]\n"
     ]
    }
   ],
   "source": [
    "my_list = [10, 20,10, 30] \n",
    "my_list.append(40) # Adds an element to the end \n",
    "my_list.remove(20) # Removes the first occurrence of the element \n",
    "print(my_list) # Output: [10, 30, 40]"
   ]
  },
  {
   "cell_type": "code",
   "execution_count": 2,
   "id": "5131d8cb-3080-4d78-85ca-a6b761979351",
   "metadata": {},
   "outputs": [
    {
     "name": "stdout",
     "output_type": "stream",
     "text": [
      "[40, 30, 10, 10]\n"
     ]
    }
   ],
   "source": [
    "my_list.reverse() # Reverses the list \n",
    "print(my_list)"
   ]
  },
  {
   "cell_type": "code",
   "execution_count": 3,
   "id": "13c677b5-9d28-4f4a-b723-371d31a3e294",
   "metadata": {},
   "outputs": [
    {
     "name": "stdout",
     "output_type": "stream",
     "text": [
      "[10, 10, 30, 40]\n"
     ]
    }
   ],
   "source": [
    "my_list.sort() # Sorts the list \n",
    "print(my_list)"
   ]
  },
  {
   "cell_type": "code",
   "execution_count": null,
   "id": "2cbc4a39-96bf-42c2-8ccd-bb85d5b3a97e",
   "metadata": {},
   "outputs": [],
   "source": []
  }
 ],
 "metadata": {
  "kernelspec": {
   "display_name": "Python 3 (ipykernel)",
   "language": "python",
   "name": "python3"
  },
  "language_info": {
   "codemirror_mode": {
    "name": "ipython",
    "version": 3
   },
   "file_extension": ".py",
   "mimetype": "text/x-python",
   "name": "python",
   "nbconvert_exporter": "python",
   "pygments_lexer": "ipython3",
   "version": "3.10.8"
  }
 },
 "nbformat": 4,
 "nbformat_minor": 5
}
