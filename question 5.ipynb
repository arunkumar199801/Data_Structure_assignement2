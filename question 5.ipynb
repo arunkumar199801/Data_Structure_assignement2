{
 "cells": [
  {
   "cell_type": "markdown",
   "id": "89c454c6-b64b-49b5-9bad-ca232a3a83c3",
   "metadata": {},
   "source": [
    "Question 5: Describe the key features of sets and provide examples of their use?"
   ]
  },
  {
   "cell_type": "raw",
   "id": "bfe38e3b-609d-4af5-9e52-4d495115f6a8",
   "metadata": {},
   "source": [
    "Answer: Sets in Python are an unordered collection of unique elements. Here are the key features of sets along with examples to illustrate their use:\n",
    "1. Unordered\n",
    "•\tSets do not maintain any order. Elements have no specific order and cannot be accessed via index or slice.\n",
    "\n",
    "2. Unique Elements\n",
    "•\tSets automatically remove duplicates. Each element in a set is unique.\n",
    "\t\n",
    "3. Mutable\n",
    "•\tSets are mutable, meaning you can add or remove elements.\n",
    "\n",
    "4. No Indexing or Slicing\n",
    "•\tBecause sets are unordered, they do not support indexing, slicing, or other sequence-like behavior.\n",
    "\n",
    "5. Set Operations\n",
    "•\tSets support various mathematical operations such as union, intersection, difference, and symmetric difference.\n",
    "\n",
    "•\tUnion: Combines elements from both sets, removing duplicates.\n",
    "\n",
    "•\tIntersection: Returns elements that are common to both sets.\n",
    "\n",
    "•\tDifference: Returns elements in the first set that are not in the second set.\n",
    "\n",
    "•\tSymmetric Difference: Returns elements in either set1 or set2 but not in both.\n",
    "\n",
    "7. Methods for Set Manipulation\n",
    "\n",
    "•\tSets have various built-in methods for common tasks:\n",
    "o\tadd(element): Adds an element to the set.\n",
    "o\tremove(element): Removes an element from the set; raises a KeyError if the element is not found.\n",
    "o\tdiscard(element): Removes an element from the set if it is present.\n",
    "o\tpop(): Removes and returns an arbitrary element from the set.\n",
    "o\tclear(): Removes all elements from the set.\n",
    "o\tcopy(): Returns a shallow copy of the set.\n",
    "\n",
    "Summary\n",
    "•\tSets: Unordered collections of unique elements, support mutability and a variety of mathematical operations, do not support indexing or slicing, and have numerous built-in methods for manipulation.\n",
    "•\tUse Cases: Useful for eliminating duplicates, performing set operations, membership testing, and when the order of elements is not important.\n"
   ]
  },
  {
   "cell_type": "code",
   "execution_count": 2,
   "id": "fa7ca664-e27f-497c-b160-d28cc1ff7ce1",
   "metadata": {},
   "outputs": [
    {
     "name": "stdout",
     "output_type": "stream",
     "text": [
      "{1, 2, 3, 4}\n"
     ]
    }
   ],
   "source": [
    "my_set = {3, 1, 4, 2}\n",
    "print(my_set)  # Output: {1, 2, 3, 4} (order may vary)"
   ]
  },
  {
   "cell_type": "code",
   "execution_count": 3,
   "id": "c95a4602-117b-44ba-9a93-4157589879ba",
   "metadata": {},
   "outputs": [
    {
     "name": "stdout",
     "output_type": "stream",
     "text": [
      "{1, 2, 3, 4}\n"
     ]
    }
   ],
   "source": [
    "my_set = {1, 2, 2, 3, 4, 4}\n",
    "print(my_set)  # Output: {1, 2, 3, 4}"
   ]
  },
  {
   "cell_type": "code",
   "execution_count": 4,
   "id": "2a9f9d26-b366-44c1-b5f6-8c647286dc23",
   "metadata": {},
   "outputs": [
    {
     "name": "stdout",
     "output_type": "stream",
     "text": [
      "{1, 2, 3, 4}\n",
      "{1, 3, 4}\n"
     ]
    }
   ],
   "source": [
    "my_set = {1, 2, 3}\n",
    "my_set.add(4)\n",
    "print(my_set)  # Output: {1, 2, 3, 4}\n",
    "\n",
    "my_set.remove(2)\n",
    "print(my_set)  # Output: {1, 3, 4}"
   ]
  },
  {
   "cell_type": "code",
   "execution_count": 6,
   "id": "ce3b88d7-8569-4475-9a55-e86580a2e9e0",
   "metadata": {},
   "outputs": [
    {
     "name": "stdout",
     "output_type": "stream",
     "text": [
      "Union: Combines elements from both sets, removing duplicates.\n",
      "{1, 2, 3, 4, 5}\n"
     ]
    }
   ],
   "source": [
    "print(\"Union: Combines elements from both sets, removing duplicates.\")\n",
    "set1 = {1, 2, 3}\n",
    "set2 = {3, 4, 5}\n",
    "union_set = set1 | set2  # or set1.union(set2)\n",
    "print(union_set)  # Output: {1, 2, 3, 4, 5}"
   ]
  },
  {
   "cell_type": "code",
   "execution_count": 7,
   "id": "8903c535-07c3-42ba-b40b-106ef9861465",
   "metadata": {},
   "outputs": [
    {
     "name": "stdout",
     "output_type": "stream",
     "text": [
      "{3}\n"
     ]
    }
   ],
   "source": [
    "set1 = {1, 2, 3}\n",
    "set2 = {3, 4, 5}\n",
    "intersection_set = set1 & set2  # or set1.intersection(set2)\n",
    "print(intersection_set)  # Output: {3}"
   ]
  },
  {
   "cell_type": "code",
   "execution_count": 8,
   "id": "74b2402f-4415-42d2-a693-8a8f3cf48d82",
   "metadata": {},
   "outputs": [
    {
     "name": "stdout",
     "output_type": "stream",
     "text": [
      "{1, 2}\n"
     ]
    }
   ],
   "source": [
    "set1 = {1, 2, 3}\n",
    "set2 = {3, 4, 5}\n",
    "difference_set = set1 - set2  # or set1.difference(set2)\n",
    "print(difference_set)  # Output: {1, 2}"
   ]
  },
  {
   "cell_type": "code",
   "execution_count": 9,
   "id": "501f3f3a-3521-4bd3-b0d4-0194a2b91fa6",
   "metadata": {},
   "outputs": [
    {
     "name": "stdout",
     "output_type": "stream",
     "text": [
      "{1, 2, 4, 5}\n"
     ]
    }
   ],
   "source": [
    "set1 = {1, 2, 3}\n",
    "set2 = {3, 4, 5}\n",
    "symmetric_difference_set = set1 ^ set2  # or set1.symmetric_difference(set2)\n",
    "print(symmetric_difference_set)  # Output: {1, 2, 4, 5}"
   ]
  },
  {
   "cell_type": "code",
   "execution_count": 10,
   "id": "8543f2ef-a5dc-41f2-a9f1-24f1cf361d79",
   "metadata": {},
   "outputs": [
    {
     "name": "stdout",
     "output_type": "stream",
     "text": [
      "{1, 2, 3, 4}\n",
      "{1, 3, 4}\n",
      "{1, 3, 4}\n",
      "1\n",
      "{3, 4}\n",
      "set()\n"
     ]
    }
   ],
   "source": [
    "my_set = {1, 2, 3}\n",
    "my_set.add(4)\n",
    "print(my_set)  # Output: {1, 2, 3, 4}\n",
    "\n",
    "my_set.remove(2)\n",
    "print(my_set)  # Output: {1, 3, 4}\n",
    "\n",
    "my_set.discard(5)  # No error if element is not found\n",
    "print(my_set)  # Output: {1, 3, 4}\n",
    "\n",
    "popped_element = my_set.pop()\n",
    "print(popped_element)  # Output: 1 (or any other element, since order is not guaranteed)\n",
    "print(my_set)  # Output: {3, 4}\n",
    "\n",
    "my_set.clear()\n",
    "print(my_set)  # Output: set()"
   ]
  },
  {
   "cell_type": "code",
   "execution_count": null,
   "id": "d0ca2136-67d0-43cf-8a98-87ceff2b91ff",
   "metadata": {},
   "outputs": [],
   "source": []
  }
 ],
 "metadata": {
  "kernelspec": {
   "display_name": "Python 3 (ipykernel)",
   "language": "python",
   "name": "python3"
  },
  "language_info": {
   "codemirror_mode": {
    "name": "ipython",
    "version": 3
   },
   "file_extension": ".py",
   "mimetype": "text/x-python",
   "name": "python",
   "nbconvert_exporter": "python",
   "pygments_lexer": "ipython3",
   "version": "3.10.8"
  }
 },
 "nbformat": 4,
 "nbformat_minor": 5
}
